{
 "cells": [
  {
   "cell_type": "markdown",
   "metadata": {},
   "source": [
    "# Lecture 1: Analysis of Algorithms"
   ]
  },
  {
   "cell_type": "markdown",
   "metadata": {},
   "source": [
    "## Sorting의 정의\n",
    "Input을 아래와 같이 받고,\n",
    "$$ [a1, a2, .., an]$$\n",
    "다음과 같이 정의할 때,\n",
    "$$a1' \\leq a2' \\leq ... \\leq an'$$\n",
    "Output을\n",
    "$$[a1', a2', ..., an']$$\n",
    "가 되도록 만드는 알고리즘이다."
   ]
  },
  {
   "cell_type": "markdown",
   "metadata": {},
   "source": [
    "## Insertion Sort\n",
    "### Pseudo Code\n",
    "다음과 같은 배열이 주어지면 $$A[1, ..., n]$$\n",
    "다음 알고리즘을 통해 정렬한다.<br>\n",
    "```\n",
    "for j ← 2 to n:\n",
    "    do key ← A[j]\n",
    "    i ← j-1\n",
    "    while i > 0 and A[i] > key:\n",
    "        do A[i+1] ← A[i]\n",
    "        i ← i-1\n",
    "    A[i+1] ← key\n",
    "```"
   ]
  },
  {
   "cell_type": "code",
   "execution_count": 1,
   "metadata": {
    "ExecuteTime": {
     "end_time": "2019-04-08T10:05:40.340630Z",
     "start_time": "2019-04-08T10:05:40.338676Z"
    }
   },
   "outputs": [],
   "source": [
    "from random import randint"
   ]
  },
  {
   "cell_type": "code",
   "execution_count": 2,
   "metadata": {
    "ExecuteTime": {
     "end_time": "2019-04-08T10:05:40.349251Z",
     "start_time": "2019-04-08T10:05:40.342019Z"
    }
   },
   "outputs": [],
   "source": [
    "### Python Implementation\n",
    "def insertion_sort(unordered_list):\n",
    "    for j in range(len(unordered_list)):\n",
    "        key = unordered_list[j]\n",
    "        i = j-1\n",
    "        while i > -1 and unordered_list[i] > key:\n",
    "            unordered_list[i+1] = unordered_list[i]\n",
    "            i = i-1\n",
    "        unordered_list[i+1] = key\n",
    "    return unordered_list"
   ]
  },
  {
   "cell_type": "code",
   "execution_count": 3,
   "metadata": {
    "ExecuteTime": {
     "end_time": "2019-04-08T10:05:40.355572Z",
     "start_time": "2019-04-08T10:05:40.351279Z"
    }
   },
   "outputs": [
    {
     "name": "stdout",
     "output_type": "stream",
     "text": [
      "[30, 30, 24, 18, 9, 6, 15, 20, 14, 4]\n",
      "[4, 6, 9, 14, 15, 18, 20, 24, 30, 30]\n"
     ]
    }
   ],
   "source": [
    "# Insertion sort testing...\n",
    "unordered_list = [randint(1, 30) for _ in range(10)]\n",
    "print(unordered_list)\n",
    "sorted_list = insertion_sort(unordered_list)\n",
    "print(sorted_list)"
   ]
  },
  {
   "cell_type": "code",
   "execution_count": 4,
   "metadata": {
    "ExecuteTime": {
     "end_time": "2019-04-08T10:05:40.362586Z",
     "start_time": "2019-04-08T10:05:40.357456Z"
    }
   },
   "outputs": [],
   "source": [
    "### Python Implementation\n",
    "def display_insertion_sort_steps(unordered_list):\n",
    "    print(unordered_list)\n",
    "    for j in range(len(unordered_list)):\n",
    "        key = unordered_list[j]\n",
    "        i = j-1\n",
    "        print('\\t', unordered_list)\n",
    "        while i > -1 and unordered_list[i] > key:\n",
    "            unordered_list[i+1] = unordered_list[i]\n",
    "            i = i-1\n",
    "            print('\\t', unordered_list)\n",
    "        unordered_list[i+1] = key\n",
    "        print(unordered_list)\n",
    "    return unordered_list"
   ]
  },
  {
   "cell_type": "code",
   "execution_count": 5,
   "metadata": {
    "ExecuteTime": {
     "end_time": "2019-04-08T10:05:40.369405Z",
     "start_time": "2019-04-08T10:05:40.363662Z"
    }
   },
   "outputs": [
    {
     "name": "stdout",
     "output_type": "stream",
     "text": [
      "[15, 8, 3, 23, 22, 6, 8, 24, 25, 15]\n",
      "[15, 8, 3, 23, 22, 6, 8, 24, 25, 15]\n",
      "\t [15, 8, 3, 23, 22, 6, 8, 24, 25, 15]\n",
      "[15, 8, 3, 23, 22, 6, 8, 24, 25, 15]\n",
      "\t [15, 8, 3, 23, 22, 6, 8, 24, 25, 15]\n",
      "\t [15, 15, 3, 23, 22, 6, 8, 24, 25, 15]\n",
      "[8, 15, 3, 23, 22, 6, 8, 24, 25, 15]\n",
      "\t [8, 15, 3, 23, 22, 6, 8, 24, 25, 15]\n",
      "\t [8, 15, 15, 23, 22, 6, 8, 24, 25, 15]\n",
      "\t [8, 8, 15, 23, 22, 6, 8, 24, 25, 15]\n",
      "[3, 8, 15, 23, 22, 6, 8, 24, 25, 15]\n",
      "\t [3, 8, 15, 23, 22, 6, 8, 24, 25, 15]\n",
      "[3, 8, 15, 23, 22, 6, 8, 24, 25, 15]\n",
      "\t [3, 8, 15, 23, 22, 6, 8, 24, 25, 15]\n",
      "\t [3, 8, 15, 23, 23, 6, 8, 24, 25, 15]\n",
      "[3, 8, 15, 22, 23, 6, 8, 24, 25, 15]\n",
      "\t [3, 8, 15, 22, 23, 6, 8, 24, 25, 15]\n",
      "\t [3, 8, 15, 22, 23, 23, 8, 24, 25, 15]\n",
      "\t [3, 8, 15, 22, 22, 23, 8, 24, 25, 15]\n",
      "\t [3, 8, 15, 15, 22, 23, 8, 24, 25, 15]\n",
      "\t [3, 8, 8, 15, 22, 23, 8, 24, 25, 15]\n",
      "[3, 6, 8, 15, 22, 23, 8, 24, 25, 15]\n",
      "\t [3, 6, 8, 15, 22, 23, 8, 24, 25, 15]\n",
      "\t [3, 6, 8, 15, 22, 23, 23, 24, 25, 15]\n",
      "\t [3, 6, 8, 15, 22, 22, 23, 24, 25, 15]\n",
      "\t [3, 6, 8, 15, 15, 22, 23, 24, 25, 15]\n",
      "[3, 6, 8, 8, 15, 22, 23, 24, 25, 15]\n",
      "\t [3, 6, 8, 8, 15, 22, 23, 24, 25, 15]\n",
      "[3, 6, 8, 8, 15, 22, 23, 24, 25, 15]\n",
      "\t [3, 6, 8, 8, 15, 22, 23, 24, 25, 15]\n",
      "[3, 6, 8, 8, 15, 22, 23, 24, 25, 15]\n",
      "\t [3, 6, 8, 8, 15, 22, 23, 24, 25, 15]\n",
      "\t [3, 6, 8, 8, 15, 22, 23, 24, 25, 25]\n",
      "\t [3, 6, 8, 8, 15, 22, 23, 24, 24, 25]\n",
      "\t [3, 6, 8, 8, 15, 22, 23, 23, 24, 25]\n",
      "\t [3, 6, 8, 8, 15, 22, 22, 23, 24, 25]\n",
      "[3, 6, 8, 8, 15, 15, 22, 23, 24, 25]\n",
      "[3, 6, 8, 8, 15, 15, 22, 23, 24, 25]\n"
     ]
    }
   ],
   "source": [
    "# Insertion sort testing...\n",
    "unordered_list = [randint(1, 30) for _ in range(10)]\n",
    "print(unordered_list)\n",
    "sorted_list = display_insertion_sort_steps(unordered_list)\n",
    "print(sorted_list)"
   ]
  },
  {
   "cell_type": "markdown",
   "metadata": {},
   "source": [
    "## Merge Sort\n",
    "### 작동방식\n",
    "1. If n=2, done. (constant time, 𝜃(1))\n",
    "2. Recursively sort (2T(n/2))\n",
    "    - A를 1부터 n/2까지 정렬하고\n",
    "    - (n/2) + 1부터 n까지 정렬\n",
    "3. 두 리스트를 합친다. (Merge, T(n))\n",
    "    - 이것을 위해 서브루틴(sub-routine)을 사용\n",
    "    \n",
    "### 서브루틴(sub-routine)\n",
    "- List 1: [20, 13, 7, 2]\n",
    "- List 2: [12, 11, 9, 1]\n",
    "\n",
    "\n",
    "1. 두개의 리스트 중 가장 작은 원소가 있는 곳을 찾는다.\n",
    "    - Head(가장 앞부분)만 비교\n",
    "2. 둘 중 더 작은 원소를 출력 배열에 넣어준다\n",
    "3. 다음으로 두 리스트 중 HEAD가 더 작은 값을 넣어준다.\n",
    "4. 위 프로세스를 모든 요소에 대해 반복한다."
   ]
  },
  {
   "cell_type": "markdown",
   "metadata": {},
   "source": [
    "*아래 코드는 python list가 아닌 numpy array를 기준으로 작성되었습니다."
   ]
  },
  {
   "cell_type": "code",
   "execution_count": 6,
   "metadata": {
    "ExecuteTime": {
     "end_time": "2019-04-08T10:05:40.403988Z",
     "start_time": "2019-04-08T10:05:40.397808Z"
    }
   },
   "outputs": [],
   "source": [
    "def subroutine(first_list, second_list):\n",
    "    ## Both lists MUST BE SORTED before running this function.\n",
    "    output_array = []\n",
    "    \n",
    "    while first_list or second_list:\n",
    "        # Check if both arrays are not empty\n",
    "        if not first_list:\n",
    "            output_array.append(second_list[0])\n",
    "            second_list.pop(0)\n",
    "            continue\n",
    "            \n",
    "        if not second_list:\n",
    "            output_array.append(first_list[0])\n",
    "            first_list.pop(0)\n",
    "            continue\n",
    "            \n",
    "        # Subroutine algorithm\n",
    "        if first_list[0] < second_list[0]:\n",
    "            output_array.append(first_list[0])\n",
    "            first_list.pop(0)\n",
    "        else:\n",
    "            output_array.append(second_list[0])\n",
    "            second_list.pop(0)\n",
    "    return output_array"
   ]
  },
  {
   "cell_type": "code",
   "execution_count": 7,
   "metadata": {
    "ExecuteTime": {
     "end_time": "2019-04-08T10:05:40.411852Z",
     "start_time": "2019-04-08T10:05:40.405935Z"
    }
   },
   "outputs": [
    {
     "name": "stdout",
     "output_type": "stream",
     "text": [
      "[1, 2, 3, 5, 5, 6, 9, 12]\n"
     ]
    }
   ],
   "source": [
    "list1 = [1, 2, 5, 6]\n",
    "list2 = [3, 5, 9, 12]\n",
    "sr_list = subroutine(list1, list2)\n",
    "print(sr_list)"
   ]
  },
  {
   "cell_type": "code",
   "execution_count": 8,
   "metadata": {
    "ExecuteTime": {
     "end_time": "2019-04-08T10:05:40.417460Z",
     "start_time": "2019-04-08T10:05:40.412648Z"
    }
   },
   "outputs": [],
   "source": [
    "def divide_array(array):\n",
    "    center_idx = len(array) // 2\n",
    "    return array[:center_idx], array[center_idx:]"
   ]
  },
  {
   "cell_type": "code",
   "execution_count": 9,
   "metadata": {
    "ExecuteTime": {
     "end_time": "2019-04-08T10:05:40.424560Z",
     "start_time": "2019-04-08T10:05:40.419535Z"
    }
   },
   "outputs": [],
   "source": [
    "def merge_sort(unsorted_list):\n",
    "    head_list, tail_list = divide_array(unsorted_list)\n",
    "    \n",
    "    if len(head_list) > 1:\n",
    "        print(\"head_list:\", head_list)\n",
    "        head_list = merge_sort(head_list)    # Not just 'merge_sort(head_list)'!!!\n",
    "    print(\"head_list:\", head_list)\n",
    "    \n",
    "    if len(tail_list) > 1:\n",
    "        print(\"tail_list:\", tail_list)\n",
    "        tail_list = merge_sort(tail_list)\n",
    "    print(\"tail_list:\", tail_list)\n",
    "        \n",
    "    return subroutine(head_list, tail_list)"
   ]
  },
  {
   "cell_type": "code",
   "execution_count": 10,
   "metadata": {
    "ExecuteTime": {
     "end_time": "2019-04-08T10:05:40.431034Z",
     "start_time": "2019-04-08T10:05:40.426026Z"
    }
   },
   "outputs": [
    {
     "name": "stdout",
     "output_type": "stream",
     "text": [
      "[8, 8, 30, 26, 3, 18, 11, 4, 6, 20]\n",
      "head_list: [8, 8, 30, 26, 3]\n",
      "head_list: [8, 8]\n",
      "head_list: [8]\n",
      "tail_list: [8]\n",
      "head_list: [8, 8]\n",
      "tail_list: [30, 26, 3]\n",
      "head_list: [30]\n",
      "tail_list: [26, 3]\n",
      "head_list: [26]\n",
      "tail_list: [3]\n",
      "tail_list: [3, 26]\n",
      "tail_list: [3, 26, 30]\n",
      "head_list: [3, 8, 8, 26, 30]\n",
      "tail_list: [18, 11, 4, 6, 20]\n",
      "head_list: [18, 11]\n",
      "head_list: [18]\n",
      "tail_list: [11]\n",
      "head_list: [11, 18]\n",
      "tail_list: [4, 6, 20]\n",
      "head_list: [4]\n",
      "tail_list: [6, 20]\n",
      "head_list: [6]\n",
      "tail_list: [20]\n",
      "tail_list: [6, 20]\n",
      "tail_list: [4, 6, 20]\n",
      "tail_list: [4, 6, 11, 18, 20]\n",
      "[3, 4, 6, 8, 8, 11, 18, 20, 26, 30]\n"
     ]
    }
   ],
   "source": [
    "unordered_list = [randint(1, 30) for _ in range(10)]\n",
    "print(unordered_list)\n",
    "sr_list = merge_sort(unordered_list)\n",
    "print(sr_list)"
   ]
  },
  {
   "cell_type": "code",
   "execution_count": null,
   "metadata": {},
   "outputs": [],
   "source": []
  }
 ],
 "metadata": {
  "kernelspec": {
   "display_name": "Python 3",
   "language": "python",
   "name": "python3"
  },
  "language_info": {
   "codemirror_mode": {
    "name": "ipython",
    "version": 3
   },
   "file_extension": ".py",
   "mimetype": "text/x-python",
   "name": "python",
   "nbconvert_exporter": "python",
   "pygments_lexer": "ipython3",
   "version": "3.6.8"
  },
  "latex_envs": {
   "LaTeX_envs_menu_present": true,
   "autoclose": false,
   "autocomplete": true,
   "bibliofile": "biblio.bib",
   "cite_by": "apalike",
   "current_citInitial": 1,
   "eqLabelWithNumbers": true,
   "eqNumInitial": 1,
   "hotkeys": {
    "equation": "Ctrl-E",
    "itemize": "Ctrl-I"
   },
   "labels_anchors": false,
   "latex_user_defs": false,
   "report_style_numbering": false,
   "user_envs_cfg": false
  },
  "toc": {
   "base_numbering": 1,
   "nav_menu": {},
   "number_sections": true,
   "sideBar": true,
   "skip_h1_title": false,
   "title_cell": "Table of Contents",
   "title_sidebar": "Contents",
   "toc_cell": false,
   "toc_position": {},
   "toc_section_display": true,
   "toc_window_display": false
  },
  "varInspector": {
   "cols": {
    "lenName": 16,
    "lenType": 16,
    "lenVar": 40
   },
   "kernels_config": {
    "python": {
     "delete_cmd_postfix": "",
     "delete_cmd_prefix": "del ",
     "library": "var_list.py",
     "varRefreshCmd": "print(var_dic_list())"
    },
    "r": {
     "delete_cmd_postfix": ") ",
     "delete_cmd_prefix": "rm(",
     "library": "var_list.r",
     "varRefreshCmd": "cat(var_dic_list()) "
    }
   },
   "types_to_exclude": [
    "module",
    "function",
    "builtin_function_or_method",
    "instance",
    "_Feature"
   ],
   "window_display": false
  }
 },
 "nbformat": 4,
 "nbformat_minor": 2
}
