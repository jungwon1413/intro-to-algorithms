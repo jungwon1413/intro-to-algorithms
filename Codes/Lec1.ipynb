{
 "cells": [
  {
   "cell_type": "markdown",
   "metadata": {},
   "source": [
    "# Lecture 1: Analysis of Algorithms"
   ]
  },
  {
   "cell_type": "markdown",
   "metadata": {},
   "source": [
    "## Sorting의 정의\n",
    "Input을 아래와 같이 받고,\n",
    "$$ [a_1, a_2, .., a_n]$$\n",
    "다음과 같이 정의할 때,\n",
    "$$a_1' \\leq a_2' \\leq ... \\leq a_n'$$\n",
    "Output을\n",
    "$$[a_1', a_2', ..., a_n']$$\n",
    "가 되도록 만드는 알고리즘이다."
   ]
  },
  {
   "cell_type": "markdown",
   "metadata": {},
   "source": [
    "## Insertion Sort\n",
    "### Pseudo Code\n",
    "다음과 같은 배열이 주어지면 $$Array[1, ..., n]$$\n",
    "다음 알고리즘을 통해 정렬한다.<br>\n",
    "```\n",
    "for j ← 2 to n:\n",
    "    do key ← A[j]\n",
    "    i ← j-1\n",
    "    while i > 0 and A[i] > key:\n",
    "        do A[i+1] ← A[i]\n",
    "        i ← i-1\n",
    "    A[i+1] ← key\n",
    "```"
   ]
  },
  {
   "cell_type": "code",
   "execution_count": 1,
   "metadata": {
    "ExecuteTime": {
     "end_time": "2019-04-09T03:06:34.804265Z",
     "start_time": "2019-04-09T03:06:34.802351Z"
    }
   },
   "outputs": [],
   "source": [
    "from random import randint"
   ]
  },
  {
   "cell_type": "code",
   "execution_count": 2,
   "metadata": {
    "ExecuteTime": {
     "end_time": "2019-04-09T03:06:34.815780Z",
     "start_time": "2019-04-09T03:06:34.805666Z"
    }
   },
   "outputs": [],
   "source": [
    "### Python Implementation\n",
    "def insertion_sort(unordered_list):\n",
    "    for j in range(1, len(unordered_list)):\n",
    "        key = unordered_list[j]\n",
    "        i = j-1\n",
    "        while i > -1 and unordered_list[i] > key:\n",
    "            unordered_list[i+1] = unordered_list[i]\n",
    "            i = i-1\n",
    "        unordered_list[i+1] = key\n",
    "    return unordered_list"
   ]
  },
  {
   "cell_type": "code",
   "execution_count": 3,
   "metadata": {
    "ExecuteTime": {
     "end_time": "2019-04-09T03:06:34.826916Z",
     "start_time": "2019-04-09T03:06:34.817376Z"
    }
   },
   "outputs": [
    {
     "name": "stdout",
     "output_type": "stream",
     "text": [
      "[11, 30, 12, 8, 26, 25, 30, 30, 24, 7]\n",
      "[7, 8, 11, 12, 24, 25, 26, 30, 30, 30]\n"
     ]
    }
   ],
   "source": [
    "# Insertion sort testing...\n",
    "unordered_list = [randint(1, 30) for _ in range(10)]\n",
    "print(unordered_list)\n",
    "sorted_list = insertion_sort(unordered_list)\n",
    "print(sorted_list)"
   ]
  },
  {
   "cell_type": "code",
   "execution_count": 4,
   "metadata": {
    "ExecuteTime": {
     "end_time": "2019-04-09T03:06:34.834589Z",
     "start_time": "2019-04-09T03:06:34.828904Z"
    }
   },
   "outputs": [],
   "source": [
    "### Python Implementation\n",
    "def display_insertion_sort_steps(unordered_list):\n",
    "    print(unordered_list)\n",
    "    for j in range(len(unordered_list)):\n",
    "        key = unordered_list[j]\n",
    "        i = j-1\n",
    "        print('\\t', unordered_list)\n",
    "        while i > -1 and unordered_list[i] > key:\n",
    "            unordered_list[i+1] = unordered_list[i]\n",
    "            i = i-1\n",
    "            print('\\t', unordered_list)\n",
    "        unordered_list[i+1] = key\n",
    "        print(unordered_list)\n",
    "    return unordered_list"
   ]
  },
  {
   "cell_type": "code",
   "execution_count": 5,
   "metadata": {
    "ExecuteTime": {
     "end_time": "2019-04-09T03:06:34.841266Z",
     "start_time": "2019-04-09T03:06:34.836314Z"
    }
   },
   "outputs": [
    {
     "name": "stdout",
     "output_type": "stream",
     "text": [
      "[14, 9, 1, 20, 20, 27, 20, 25, 4, 27]\n",
      "[14, 9, 1, 20, 20, 27, 20, 25, 4, 27]\n",
      "\t [14, 9, 1, 20, 20, 27, 20, 25, 4, 27]\n",
      "[14, 9, 1, 20, 20, 27, 20, 25, 4, 27]\n",
      "\t [14, 9, 1, 20, 20, 27, 20, 25, 4, 27]\n",
      "\t [14, 14, 1, 20, 20, 27, 20, 25, 4, 27]\n",
      "[9, 14, 1, 20, 20, 27, 20, 25, 4, 27]\n",
      "\t [9, 14, 1, 20, 20, 27, 20, 25, 4, 27]\n",
      "\t [9, 14, 14, 20, 20, 27, 20, 25, 4, 27]\n",
      "\t [9, 9, 14, 20, 20, 27, 20, 25, 4, 27]\n",
      "[1, 9, 14, 20, 20, 27, 20, 25, 4, 27]\n",
      "\t [1, 9, 14, 20, 20, 27, 20, 25, 4, 27]\n",
      "[1, 9, 14, 20, 20, 27, 20, 25, 4, 27]\n",
      "\t [1, 9, 14, 20, 20, 27, 20, 25, 4, 27]\n",
      "[1, 9, 14, 20, 20, 27, 20, 25, 4, 27]\n",
      "\t [1, 9, 14, 20, 20, 27, 20, 25, 4, 27]\n",
      "[1, 9, 14, 20, 20, 27, 20, 25, 4, 27]\n",
      "\t [1, 9, 14, 20, 20, 27, 20, 25, 4, 27]\n",
      "\t [1, 9, 14, 20, 20, 27, 27, 25, 4, 27]\n",
      "[1, 9, 14, 20, 20, 20, 27, 25, 4, 27]\n",
      "\t [1, 9, 14, 20, 20, 20, 27, 25, 4, 27]\n",
      "\t [1, 9, 14, 20, 20, 20, 27, 27, 4, 27]\n",
      "[1, 9, 14, 20, 20, 20, 25, 27, 4, 27]\n",
      "\t [1, 9, 14, 20, 20, 20, 25, 27, 4, 27]\n",
      "\t [1, 9, 14, 20, 20, 20, 25, 27, 27, 27]\n",
      "\t [1, 9, 14, 20, 20, 20, 25, 25, 27, 27]\n",
      "\t [1, 9, 14, 20, 20, 20, 20, 25, 27, 27]\n",
      "\t [1, 9, 14, 20, 20, 20, 20, 25, 27, 27]\n",
      "\t [1, 9, 14, 20, 20, 20, 20, 25, 27, 27]\n",
      "\t [1, 9, 14, 14, 20, 20, 20, 25, 27, 27]\n",
      "\t [1, 9, 9, 14, 20, 20, 20, 25, 27, 27]\n",
      "[1, 4, 9, 14, 20, 20, 20, 25, 27, 27]\n",
      "\t [1, 4, 9, 14, 20, 20, 20, 25, 27, 27]\n",
      "[1, 4, 9, 14, 20, 20, 20, 25, 27, 27]\n",
      "[1, 4, 9, 14, 20, 20, 20, 25, 27, 27]\n"
     ]
    }
   ],
   "source": [
    "# Insertion sort testing...\n",
    "unordered_list = [randint(1, 30) for _ in range(10)]\n",
    "print(unordered_list)\n",
    "sorted_list = display_insertion_sort_steps(unordered_list)\n",
    "print(sorted_list)"
   ]
  },
  {
   "cell_type": "markdown",
   "metadata": {},
   "source": [
    "## Merge Sort\n",
    "### 작동방식\n",
    "1. If n=2, done. (constant time, 𝜃(1))\n",
    "2. Recursively sort (2T(n/2))\n",
    "    - A를 1부터 n/2까지 정렬하고\n",
    "    - (n/2) + 1부터 n까지 정렬\n",
    "3. 두 리스트를 합친다. (Merge, T(n))\n",
    "    - 이것을 위해 서브루틴(sub-routine)을 사용\n",
    "    \n",
    "### 서브루틴(sub-routine)\n",
    "- List 1: [2, 7, 13, 20]\n",
    "- List 2: [1, 9, 11, 12]\n",
    "\n",
    "\n",
    "1. 두개의 리스트 중 가장 작은 원소가 있는 곳을 찾는다.\n",
    "    - Head(가장 앞부분)만 비교\n",
    "2. 둘 중 더 작은 원소를 출력 배열에 넣어준다\n",
    "3. 다음으로 두 리스트 중 HEAD가 더 작은 값을 넣어준다.\n",
    "4. 위 프로세스를 모든 요소에 대해 반복한다."
   ]
  },
  {
   "cell_type": "markdown",
   "metadata": {},
   "source": [
    "참고 자료: [https://gmlwjd9405.github.io/2018/05/08/algorithm-merge-sort.html](https://gmlwjd9405.github.io/2018/05/08/algorithm-merge-sort.html)"
   ]
  },
  {
   "cell_type": "code",
   "execution_count": 6,
   "metadata": {
    "ExecuteTime": {
     "end_time": "2019-04-09T03:06:34.851933Z",
     "start_time": "2019-04-09T03:06:34.847685Z"
    }
   },
   "outputs": [],
   "source": [
    "def subroutine(first_list, second_list):\n",
    "    ## Both lists MUST BE SORTED before running this function.\n",
    "    output_array = []\n",
    "    \n",
    "    while first_list or second_list:\n",
    "        # Check if both arrays are not empty\n",
    "        if not first_list:\n",
    "            output_array.append(second_list[0])\n",
    "            second_list.pop(0)\n",
    "            continue\n",
    "            \n",
    "        if not second_list:\n",
    "            output_array.append(first_list[0])\n",
    "            first_list.pop(0)\n",
    "            continue\n",
    "            \n",
    "        # Subroutine algorithm\n",
    "        if first_list[0] < second_list[0]:\n",
    "            output_array.append(first_list[0])\n",
    "            first_list.pop(0)\n",
    "        else:\n",
    "            output_array.append(second_list[0])\n",
    "            second_list.pop(0)\n",
    "    return output_array"
   ]
  },
  {
   "cell_type": "code",
   "execution_count": 7,
   "metadata": {
    "ExecuteTime": {
     "end_time": "2019-04-09T03:06:34.857380Z",
     "start_time": "2019-04-09T03:06:34.853355Z"
    }
   },
   "outputs": [
    {
     "name": "stdout",
     "output_type": "stream",
     "text": [
      "[1, 2, 3, 5, 5, 6, 9, 12]\n"
     ]
    }
   ],
   "source": [
    "list1 = [1, 2, 5, 6]\n",
    "list2 = [3, 5, 9, 12]\n",
    "sr_list = subroutine(list1, list2)\n",
    "print(sr_list)"
   ]
  },
  {
   "cell_type": "code",
   "execution_count": 8,
   "metadata": {
    "ExecuteTime": {
     "end_time": "2019-04-09T03:06:34.864666Z",
     "start_time": "2019-04-09T03:06:34.858364Z"
    }
   },
   "outputs": [],
   "source": [
    "def divide_array(array):\n",
    "    center_idx = len(array) // 2\n",
    "    return array[:center_idx], array[center_idx:]"
   ]
  },
  {
   "cell_type": "code",
   "execution_count": 9,
   "metadata": {
    "ExecuteTime": {
     "end_time": "2019-04-09T03:06:34.871234Z",
     "start_time": "2019-04-09T03:06:34.866091Z"
    }
   },
   "outputs": [],
   "source": [
    "def merge_sort(unsorted_list):\n",
    "    head_list, tail_list = divide_array(unsorted_list)\n",
    "    \n",
    "    if len(head_list) > 1:\n",
    "        print(\"head_list:\", head_list)\n",
    "        head_list = merge_sort(head_list)    # Not just 'merge_sort(head_list)'!!!\n",
    "    print(\"head_list:\", head_list)\n",
    "    \n",
    "    if len(tail_list) > 1:\n",
    "        print(\"tail_list:\", tail_list)\n",
    "        tail_list = merge_sort(tail_list)\n",
    "    print(\"tail_list:\", tail_list)\n",
    "        \n",
    "    return subroutine(head_list, tail_list)"
   ]
  },
  {
   "cell_type": "code",
   "execution_count": 10,
   "metadata": {
    "ExecuteTime": {
     "end_time": "2019-04-09T03:06:34.877687Z",
     "start_time": "2019-04-09T03:06:34.872877Z"
    }
   },
   "outputs": [
    {
     "name": "stdout",
     "output_type": "stream",
     "text": [
      "[5, 2, 19, 6, 3, 18, 21, 17, 24, 17, 24]\n",
      "head_list: [5, 2, 19, 6, 3]\n",
      "head_list: [5, 2]\n",
      "head_list: [5]\n",
      "tail_list: [2]\n",
      "head_list: [2, 5]\n",
      "tail_list: [19, 6, 3]\n",
      "head_list: [19]\n",
      "tail_list: [6, 3]\n",
      "head_list: [6]\n",
      "tail_list: [3]\n",
      "tail_list: [3, 6]\n",
      "tail_list: [3, 6, 19]\n",
      "head_list: [2, 3, 5, 6, 19]\n",
      "tail_list: [18, 21, 17, 24, 17, 24]\n",
      "head_list: [18, 21, 17]\n",
      "head_list: [18]\n",
      "tail_list: [21, 17]\n",
      "head_list: [21]\n",
      "tail_list: [17]\n",
      "tail_list: [17, 21]\n",
      "head_list: [17, 18, 21]\n",
      "tail_list: [24, 17, 24]\n",
      "head_list: [24]\n",
      "tail_list: [17, 24]\n",
      "head_list: [17]\n",
      "tail_list: [24]\n",
      "tail_list: [17, 24]\n",
      "tail_list: [17, 24, 24]\n",
      "tail_list: [17, 17, 18, 21, 24, 24]\n",
      "[2, 3, 5, 6, 17, 17, 18, 19, 21, 24, 24]\n"
     ]
    }
   ],
   "source": [
    "unordered_list = [randint(1, 30) for _ in range(11)]\n",
    "print(unordered_list)\n",
    "sr_list = merge_sort(unordered_list)\n",
    "print(sr_list)"
   ]
  },
  {
   "cell_type": "code",
   "execution_count": 17,
   "metadata": {
    "ExecuteTime": {
     "end_time": "2019-04-09T04:22:22.587726Z",
     "start_time": "2019-04-09T04:22:22.583029Z"
    }
   },
   "outputs": [],
   "source": [
    "def north_korean_sort(unsorted_array):\n",
    "    # kill next index if not bigger\n",
    "    idx = 0\n",
    "    while idx+1 < len(unsorted_array):\n",
    "        if unsorted_array[idx] >= unsorted_array[idx+1]:\n",
    "            unsorted_array.pop(idx+1)\n",
    "            print(unsorted_array)\n",
    "        else:\n",
    "            idx += 1\n",
    "    return unsorted_array"
   ]
  },
  {
   "cell_type": "code",
   "execution_count": 18,
   "metadata": {
    "ExecuteTime": {
     "end_time": "2019-04-09T04:22:23.214090Z",
     "start_time": "2019-04-09T04:22:23.209398Z"
    }
   },
   "outputs": [
    {
     "name": "stdout",
     "output_type": "stream",
     "text": [
      "[1, 27, 29, 21, 6, 6, 8, 9, 22, 25, 30]\n",
      "[1, 27, 29, 6, 6, 8, 9, 22, 25, 30]\n",
      "[1, 27, 29, 6, 8, 9, 22, 25, 30]\n",
      "[1, 27, 29, 8, 9, 22, 25, 30]\n",
      "[1, 27, 29, 9, 22, 25, 30]\n",
      "[1, 27, 29, 22, 25, 30]\n",
      "[1, 27, 29, 25, 30]\n",
      "[1, 27, 29, 30]\n",
      "[1, 27, 29, 30]\n"
     ]
    }
   ],
   "source": [
    "unordered_list = [randint(1, 30) for _ in range(11)]\n",
    "print(unordered_list)\n",
    "sr_list = north_korean_sort(unordered_list)\n",
    "print(sr_list)"
   ]
  },
  {
   "cell_type": "code",
   "execution_count": null,
   "metadata": {},
   "outputs": [],
   "source": []
  }
 ],
 "metadata": {
  "kernelspec": {
   "display_name": "Python 3",
   "language": "python",
   "name": "python3"
  },
  "language_info": {
   "codemirror_mode": {
    "name": "ipython",
    "version": 3
   },
   "file_extension": ".py",
   "mimetype": "text/x-python",
   "name": "python",
   "nbconvert_exporter": "python",
   "pygments_lexer": "ipython3",
   "version": "3.6.8"
  },
  "latex_envs": {
   "LaTeX_envs_menu_present": true,
   "autoclose": false,
   "autocomplete": true,
   "bibliofile": "biblio.bib",
   "cite_by": "apalike",
   "current_citInitial": 1,
   "eqLabelWithNumbers": true,
   "eqNumInitial": 1,
   "hotkeys": {
    "equation": "Ctrl-E",
    "itemize": "Ctrl-I"
   },
   "labels_anchors": false,
   "latex_user_defs": false,
   "report_style_numbering": false,
   "user_envs_cfg": false
  },
  "toc": {
   "base_numbering": 1,
   "nav_menu": {},
   "number_sections": true,
   "sideBar": true,
   "skip_h1_title": false,
   "title_cell": "Table of Contents",
   "title_sidebar": "Contents",
   "toc_cell": false,
   "toc_position": {},
   "toc_section_display": true,
   "toc_window_display": false
  },
  "varInspector": {
   "cols": {
    "lenName": 16,
    "lenType": 16,
    "lenVar": 40
   },
   "kernels_config": {
    "python": {
     "delete_cmd_postfix": "",
     "delete_cmd_prefix": "del ",
     "library": "var_list.py",
     "varRefreshCmd": "print(var_dic_list())"
    },
    "r": {
     "delete_cmd_postfix": ") ",
     "delete_cmd_prefix": "rm(",
     "library": "var_list.r",
     "varRefreshCmd": "cat(var_dic_list()) "
    }
   },
   "types_to_exclude": [
    "module",
    "function",
    "builtin_function_or_method",
    "instance",
    "_Feature"
   ],
   "window_display": false
  }
 },
 "nbformat": 4,
 "nbformat_minor": 2
}
